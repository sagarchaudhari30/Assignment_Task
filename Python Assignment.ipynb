{
 "cells": [
  {
   "cell_type": "markdown",
   "metadata": {},
   "source": [
    "### List_remove_append :"
   ]
  },
  {
   "cell_type": "code",
   "execution_count": 1,
   "metadata": {},
   "outputs": [
    {
     "name": "stdout",
     "output_type": "stream",
     "text": [
      "['SAS', 'R', 'PYTHON']\n",
      "['SAS', 'R', 'PYTHON', 'SPARK']\n"
     ]
    }
   ],
   "source": [
    "# Description: Remove SPSS from input_list=['SAS', 'R', 'PYTHON', 'SPSS'] and add 'SPARK' in its place.\n",
    "\n",
    "input_list = ['SAS','R','PYTHON','SPSS']\n",
    "\n",
    "#Remove element :\n",
    "input_list.remove('SPSS')\n",
    "print(input_list)\n",
    "\n",
    "#Append element :\n",
    "input_list.append('SPARK')\n",
    "print(input_list)"
   ]
  },
  {
   "cell_type": "markdown",
   "metadata": {},
   "source": [
    "### String to List Conversion :"
   ]
  },
  {
   "cell_type": "code",
   "execution_count": 2,
   "metadata": {},
   "outputs": [
    {
     "data": {
      "text/plain": [
       "['I love Data Science ', ' Python']"
      ]
     },
     "execution_count": 2,
     "metadata": {},
     "output_type": "execute_result"
    }
   ],
   "source": [
    "#Description: Convert a string input_str = 'I love Data Science & Python' to a list by splitting it on ‘&’.\n",
    "\n",
    "input_str = 'I love Data Science & Python'\n",
    "\n",
    "converted_list = list(input_str.split(\"&\"))\n",
    "converted_list"
   ]
  },
  {
   "cell_type": "markdown",
   "metadata": {},
   "source": [
    "### List to String Conversion :"
   ]
  },
  {
   "cell_type": "code",
   "execution_count": 3,
   "metadata": {},
   "outputs": [
    {
     "data": {
      "text/plain": [
       "'Pythons syntax is easy to learn & Pythons syntax is very clear'"
      ]
     },
     "execution_count": 3,
     "metadata": {},
     "output_type": "execute_result"
    }
   ],
   "source": [
    "# Description: Convert a list ['Pythons syntax is easy to learn', 'Pythons syntax is very clear'] to a string using ‘&’.\n",
    "\n",
    "input_list = ['Pythons syntax is easy to learn', 'Pythons syntax is very clear']\n",
    "\n",
    "converted_str = \" & \".join(input_list)\n",
    "converted_str"
   ]
  },
  {
   "cell_type": "markdown",
   "metadata": {},
   "source": [
    "### Nested List :"
   ]
  },
  {
   "cell_type": "code",
   "execution_count": 4,
   "metadata": {},
   "outputs": [
    {
     "data": {
      "text/plain": [
       "'Python'"
      ]
     },
     "execution_count": 4,
     "metadata": {},
     "output_type": "execute_result"
    }
   ],
   "source": [
    "#Description: Extract Python from a nested list\n",
    "\n",
    "input_list = [['SAS','R'],['Tableau','SQL'],['Python','Java']]\n",
    "\n",
    "input_list[2][0]"
   ]
  },
  {
   "cell_type": "markdown",
   "metadata": {},
   "source": [
    "### It’s the time to disco :"
   ]
  },
  {
   "cell_type": "code",
   "execution_count": 5,
   "metadata": {},
   "outputs": [
    {
     "data": {
      "text/plain": [
       "'s'"
      ]
     },
     "execution_count": 5,
     "metadata": {},
     "output_type": "execute_result"
    }
   ],
   "source": [
    "# Description: t = (\"disco\", 12, 4.5)   What is the output of: t[0][2]\n",
    "\n",
    "t = (\"disco\", 12, 4.5)\n",
    "\n",
    "#Output\n",
    "t[0][2]"
   ]
  },
  {
   "cell_type": "markdown",
   "metadata": {},
   "source": [
    "### String Palindrome :"
   ]
  },
  {
   "cell_type": "code",
   "execution_count": 6,
   "metadata": {},
   "outputs": [
    {
     "name": "stdout",
     "output_type": "stream",
     "text": [
      "0\n",
      "1\n"
     ]
    }
   ],
   "source": [
    "# Description: Write a program to check whether a string is a palindrome or not. Print 1 if the string is a palindrome and 0 otherwise.\n",
    "\n",
    "def isStrPalindrome(input_str):\n",
    "    if input_str == input_str[::-1] :\n",
    "        print(1)\n",
    "    else:\n",
    "        print(0)\n",
    "\n",
    "# False condition:\n",
    "isStrPalindrome('sir')\n",
    "\n",
    "# True condition:\n",
    "isStrPalindrome('madam')"
   ]
  },
  {
   "cell_type": "markdown",
   "metadata": {},
   "source": [
    "### Reverse Words :"
   ]
  },
  {
   "cell_type": "code",
   "execution_count": 7,
   "metadata": {},
   "outputs": [
    {
     "data": {
      "text/plain": [
       "'analytics data and python like me'"
      ]
     },
     "execution_count": 7,
     "metadata": {},
     "output_type": "execute_result"
    }
   ],
   "source": [
    "#Description: You will be given a sentence in the form of a string. You have to reverse the order of the words in the sentence.\n",
    "#Remember not to reverse the individual words, but the order of words.\n",
    "\n",
    "input_str= 'me like python and data analytics' \n",
    "\n",
    "output_str = ' '.join(reversed(input_str.split(' ')))\n",
    "output_str"
   ]
  },
  {
   "cell_type": "markdown",
   "metadata": {},
   "source": [
    "### String Formatting :"
   ]
  },
  {
   "cell_type": "code",
   "execution_count": 8,
   "metadata": {},
   "outputs": [
    {
     "name": "stdout",
     "output_type": "stream",
     "text": [
      "1st output :  calorie_consumed\n",
      "2nd output :  data_science\n",
      "3rd output :  datascience\n"
     ]
    }
   ],
   "source": [
    "#Description: Write a program that satisfies below examples :\n",
    "\n",
    "#Input 1: caloRie ConsuMed ; Output 1: calorie_consumed :>\n",
    "input_a = 'caloRie ConsuMed'\n",
    "output_a = '_'.join(input_a.split(' ')).lower()\n",
    "print('1st output : ', output_a)\n",
    "\n",
    "#Input 2: data science ; Output 2: data_science :>\n",
    "input_b = 'data science'\n",
    "output_b = '_'.join(input_b.split(' '))\n",
    "print('2nd output : ', output_b)\n",
    "\n",
    "#Input 3: data science ; Output 3: datascience :>\n",
    "input_c = 'data science'\n",
    "output_c = ''.join(input_b.split(' '))\n",
    "print('3rd output : ', output_c)"
   ]
  },
  {
   "cell_type": "raw",
   "metadata": {},
   "source": []
  },
  {
   "cell_type": "markdown",
   "metadata": {},
   "source": [
    "### Multiple Choice Questions :"
   ]
  },
  {
   "cell_type": "raw",
   "metadata": {},
   "source": [
    "1. How will you extract ‘love’ from the string S = “I love Python”? (More than one option may be correct.)\n",
    "a. S[2:5]\n",
    "b. S[2:6]\n",
    "c. S[3:7]\n",
    "d. S[-11:-7]\n",
    "e. S[-11:-8]\n",
    "\n",
    "Ans >>  b. S[2:6]  &  d. S[-11:-7]"
   ]
  },
  {
   "cell_type": "code",
   "execution_count": 9,
   "metadata": {},
   "outputs": [
    {
     "name": "stdout",
     "output_type": "stream",
     "text": [
      "love\n",
      "love\n"
     ]
    }
   ],
   "source": [
    "# Ans Reference:\n",
    "S = 'I love Python'\n",
    "\n",
    "print(S[2:6])\n",
    "\n",
    "print(S[-11:-7])"
   ]
  },
  {
   "cell_type": "raw",
   "metadata": {},
   "source": [
    "2. What will the output of 3 * 3 ** 3 be?\n",
    "a. 9\n",
    "b. 27\n",
    "c. 81\n",
    "d. 729\n",
    "\n",
    "Ans >>  c. 81"
   ]
  },
  {
   "cell_type": "code",
   "execution_count": 10,
   "metadata": {},
   "outputs": [
    {
     "data": {
      "text/plain": [
       "81"
      ]
     },
     "execution_count": 10,
     "metadata": {},
     "output_type": "execute_result"
    }
   ],
   "source": [
    "# Ans Reference:\n",
    "3 * 3 ** 3"
   ]
  },
  {
   "cell_type": "raw",
   "metadata": {},
   "source": [
    "3. What will the output be of ((500//7) % 5) ** 3?\n",
    "a. 1\n",
    "b. 2.91\n",
    "c. 71.42\n",
    "d. 0\n",
    "e. 8\n",
    "\n",
    "Ans >>  a. 1"
   ]
  },
  {
   "cell_type": "code",
   "execution_count": 11,
   "metadata": {},
   "outputs": [
    {
     "data": {
      "text/plain": [
       "1"
      ]
     },
     "execution_count": 11,
     "metadata": {},
     "output_type": "execute_result"
    }
   ],
   "source": [
    "# Ans Reference:\n",
    "((500//7) % 5) ** 3"
   ]
  },
  {
   "cell_type": "raw",
   "metadata": {},
   "source": [
    "4. If you have a tuple T = (3, 5, 7, 11) what will the output of T.append(9) be?\n",
    "a. (3, 5, 7, 9, 11)\n",
    "b. (9, 3, 5, 7, 11)\n",
    "c. (3, 5, 7, 11, 9)\n",
    "d. Error\n",
    "\n",
    "Ans >> d. Error  (Tuple can not chnage using append)"
   ]
  },
  {
   "cell_type": "raw",
   "metadata": {},
   "source": [
    "5. What will the output of the following program be?\n",
    "a. Vikas\n",
    "b. Mahima\n",
    "c. y\n",
    "d. A\n",
    "\n",
    "program not available in pdf"
   ]
  },
  {
   "cell_type": "raw",
   "metadata": {},
   "source": [
    "6. What will the output of the following code be?\n",
    "a. 5\n",
    "b. 6\n",
    "c. 7\n",
    "d. The code will throw an error\n",
    "\n",
    "Ans >> b. 6"
   ]
  },
  {
   "cell_type": "code",
   "execution_count": 12,
   "metadata": {},
   "outputs": [
    {
     "name": "stdout",
     "output_type": "stream",
     "text": [
      "6\n"
     ]
    }
   ],
   "source": [
    "# Ans Reference:\n",
    "l = [32, 34, 12, 27, 33]\n",
    "l.append((14, 19))\n",
    "print(len(l))"
   ]
  },
  {
   "cell_type": "raw",
   "metadata": {},
   "source": [
    "7. Which of the following statements is incorrect regarding sets in Python?\n",
    "a. Sets do not contain duplicate elements\n",
    "b. Sets are represented using curly braces {}\n",
    "c. Sets are immutable\n",
    "d. All of the above\n",
    "\n",
    "Ans: C. Sets are immutable.  (Set can be change, elements are imutable)"
   ]
  },
  {
   "cell_type": "raw",
   "metadata": {},
   "source": [
    "8. What will the output be of the following code?\n",
    "a.  1\n",
    "    2\n",
    "    3\n",
    "b.  [‘Raj’, 22]\n",
    "    [‘Simran’, 21]\n",
    "    [‘Rahul’, 40]\n",
    "c.  1 [‘Raj’, 22]\n",
    "    2 [‘Simran’, 21]\n",
    "    3 [‘Rahul’, 40]\n",
    "d.  ‘Raj’\n",
    "    ‘Simran’\n",
    "    ‘Rahul’\n",
    "    \n",
    "Ans >> a. 1\n",
    "          2\n",
    "          3"
   ]
  },
  {
   "cell_type": "code",
   "execution_count": 13,
   "metadata": {},
   "outputs": [
    {
     "name": "stdout",
     "output_type": "stream",
     "text": [
      "1\n",
      "2\n",
      "3\n"
     ]
    }
   ],
   "source": [
    "# Ans Reference:\n",
    "D = {1:['Raj',22], 2:['Simran',21], 3:['Rahul',40]}\n",
    "\n",
    "for val in D:\n",
    "    print(val)"
   ]
  },
  {
   "cell_type": "raw",
   "metadata": {},
   "source": [
    "9. What will the ‘comprehension equivalent’ be for the following snippet of code?\n",
    "a. word for sentence in paragraph for word in sentence.split()\n",
    "b. [word for sentence in paragraph for word in sentence.split()]\n",
    "c. word for word in sentence.split() for sentence in paragraph\n",
    "d. [word for word in sentence.split() for sentence in paragraph]\n",
    "\n",
    "Ans: b. [worrd for sentence in paragraph for word in sentence.split()]"
   ]
  },
  {
   "cell_type": "raw",
   "metadata": {},
   "source": [
    "10. What will be the output of this code?\n",
    "a. [10, 9, 8, 7, 6, 5, 4, 3, 2, 1]\n",
    "b. [9, 8, 7, 6, 5, 4, 3, 2]\n",
    "c. [9, 8, 7, 6, 5, 4, 3, 2, 1]\n",
    "d. [10, 9, 8, 7, 6, 5, 4, 3, 2]\n",
    "\n",
    "Ans >> d. [10, 9, 8, 7, 6, 5, 4, 3, 2]"
   ]
  },
  {
   "cell_type": "code",
   "execution_count": 14,
   "metadata": {},
   "outputs": [
    {
     "name": "stdout",
     "output_type": "stream",
     "text": [
      "[10, 9, 8, 7, 6, 5, 4, 3, 2]\n"
     ]
    }
   ],
   "source": [
    "#Ans reference:\n",
    "print(list(range(10, 1, -1)))"
   ]
  }
 ],
 "metadata": {
  "kernelspec": {
   "display_name": "Python 3",
   "language": "python",
   "name": "python3"
  },
  "language_info": {
   "codemirror_mode": {
    "name": "ipython",
    "version": 3
   },
   "file_extension": ".py",
   "mimetype": "text/x-python",
   "name": "python",
   "nbconvert_exporter": "python",
   "pygments_lexer": "ipython3",
   "version": "3.8.3"
  }
 },
 "nbformat": 4,
 "nbformat_minor": 4
}
